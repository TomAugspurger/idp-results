{
 "cells": [
  {
   "cell_type": "markdown",
   "metadata": {},
   "source": [
    "The Iowa Democratic Party is uploading the results of Tuesday's caucus to https://results.thecaucuses.org.\n",
    "I haven't found a source for the raw data, so we have to scrape it.\n",
    "\n",
    "Unfortunatley, the HTML isn't the cleanest... (https://twitter.com/therriaultphd/status/1224833286599585793)."
   ]
  },
  {
   "cell_type": "code",
   "execution_count": 1,
   "metadata": {},
   "outputs": [],
   "source": [
    "import io\n",
    "import requests\n",
    "import lxml.html\n",
    "import pandas as pd\n",
    "\n",
    "url = \"https://results.thecaucuses.org\"\n",
    "r = requests.get(url)\n",
    "\n",
    "root = lxml.html.parse(io.StringIO(r.text)).getroot()"
   ]
  },
  {
   "cell_type": "code",
   "execution_count": 2,
   "metadata": {},
   "outputs": [],
   "source": [
    "# Bennet, Biden, etc.\n",
    "head = root.find_class(\"thead\")[0]\n",
    "header = [x.text for x in list(head.iterchildren())]\n",
    "\n",
    "# First Expression, Final Expression, SDE, ...\n",
    "subhead = root.find_class(\"sub-head\")[0]\n",
    "subheader = [x.text for x in list(subhead.iterchildren())]"
   ]
  },
  {
   "cell_type": "code",
   "execution_count": 3,
   "metadata": {},
   "outputs": [],
   "source": [
    "columns = pd.MultiIndex.from_arrays([\n",
    "    pd.Series(header).fillna(method='ffill'),\n",
    "    pd.Series(subheader).fillna(method='ffill').fillna('')\n",
    "], names=['candidate', 'round'])"
   ]
  },
  {
   "cell_type": "code",
   "execution_count": 4,
   "metadata": {},
   "outputs": [],
   "source": [
    "counties = root.find_class(\"precinct-county\")\n",
    "county_names = [x[0].text for x in counties]\n",
    "counties_data = root.find_class(\"precinct-data\")\n",
    "county = counties_data[0]\n",
    "rows = []"
   ]
  },
  {
   "cell_type": "code",
   "execution_count": 5,
   "metadata": {},
   "outputs": [],
   "source": [
    "for name, county in zip(county_names, counties_data):\n",
    "    if len(county) > 1:\n",
    "        # satellites only have a total\n",
    "        county = county[:-1]\n",
    "\n",
    "    for precinct in county:\n",
    "        # exclude total\n",
    "        rows.append((name,) + tuple(x.text for x in precinct))"
   ]
  },
  {
   "cell_type": "code",
   "execution_count": 6,
   "metadata": {},
   "outputs": [
    {
     "data": {
      "text/html": [
       "<div>\n",
       "<style scoped>\n",
       "    .dataframe tbody tr th:only-of-type {\n",
       "        vertical-align: middle;\n",
       "    }\n",
       "\n",
       "    .dataframe tbody tr th {\n",
       "        vertical-align: top;\n",
       "    }\n",
       "\n",
       "    .dataframe thead th {\n",
       "        text-align: right;\n",
       "    }\n",
       "</style>\n",
       "<table border=\"1\" class=\"dataframe\">\n",
       "  <thead>\n",
       "    <tr style=\"text-align: right;\">\n",
       "      <th></th>\n",
       "      <th></th>\n",
       "      <th>round</th>\n",
       "      <th>Final Expression</th>\n",
       "      <th>First Expression</th>\n",
       "      <th>SDE</th>\n",
       "    </tr>\n",
       "    <tr>\n",
       "      <th>County</th>\n",
       "      <th>Precinct</th>\n",
       "      <th>candidate</th>\n",
       "      <th></th>\n",
       "      <th></th>\n",
       "      <th></th>\n",
       "    </tr>\n",
       "  </thead>\n",
       "  <tbody>\n",
       "    <tr>\n",
       "      <th rowspan=\"5\" valign=\"top\">Adair</th>\n",
       "      <th rowspan=\"5\" valign=\"top\">1NW ADAIR</th>\n",
       "      <th>Bennet</th>\n",
       "      <td>0</td>\n",
       "      <td>0</td>\n",
       "      <td>0.0000</td>\n",
       "    </tr>\n",
       "    <tr>\n",
       "      <th>Biden</th>\n",
       "      <td>6</td>\n",
       "      <td>6</td>\n",
       "      <td>0.0784</td>\n",
       "    </tr>\n",
       "    <tr>\n",
       "      <th>Bloomberg</th>\n",
       "      <td>0</td>\n",
       "      <td>0</td>\n",
       "      <td>0.0000</td>\n",
       "    </tr>\n",
       "    <tr>\n",
       "      <th>Buttigieg</th>\n",
       "      <td>8</td>\n",
       "      <td>8</td>\n",
       "      <td>0.0784</td>\n",
       "    </tr>\n",
       "    <tr>\n",
       "      <th>Delaney</th>\n",
       "      <td>0</td>\n",
       "      <td>0</td>\n",
       "      <td>0.0000</td>\n",
       "    </tr>\n",
       "    <tr>\n",
       "      <th>...</th>\n",
       "      <th>...</th>\n",
       "      <th>...</th>\n",
       "      <td>...</td>\n",
       "      <td>...</td>\n",
       "      <td>...</td>\n",
       "    </tr>\n",
       "    <tr>\n",
       "      <th rowspan=\"5\" valign=\"top\">Wright</th>\n",
       "      <th rowspan=\"5\" valign=\"top\">Rural Clarion</th>\n",
       "      <th>Sanders</th>\n",
       "      <td>0</td>\n",
       "      <td>1</td>\n",
       "      <td>0.0000</td>\n",
       "    </tr>\n",
       "    <tr>\n",
       "      <th>Steyer</th>\n",
       "      <td>0</td>\n",
       "      <td>0</td>\n",
       "      <td>0.0000</td>\n",
       "    </tr>\n",
       "    <tr>\n",
       "      <th>Uncommitted</th>\n",
       "      <td>0</td>\n",
       "      <td>0</td>\n",
       "      <td>0.0000</td>\n",
       "    </tr>\n",
       "    <tr>\n",
       "      <th>Warren</th>\n",
       "      <td>0</td>\n",
       "      <td>3</td>\n",
       "      <td>0.0000</td>\n",
       "    </tr>\n",
       "    <tr>\n",
       "      <th>Yang</th>\n",
       "      <td>0</td>\n",
       "      <td>0</td>\n",
       "      <td>0.0000</td>\n",
       "    </tr>\n",
       "  </tbody>\n",
       "</table>\n",
       "<p>15456 rows × 3 columns</p>\n",
       "</div>"
      ],
      "text/plain": [
       "round                             Final Expression  First Expression     SDE\n",
       "County Precinct      candidate                                              \n",
       "Adair  1NW ADAIR     Bennet                      0                 0  0.0000\n",
       "                     Biden                       6                 6  0.0784\n",
       "                     Bloomberg                   0                 0  0.0000\n",
       "                     Buttigieg                   8                 8  0.0784\n",
       "                     Delaney                     0                 0  0.0000\n",
       "...                                            ...               ...     ...\n",
       "Wright Rural Clarion Sanders                     0                 1  0.0000\n",
       "                     Steyer                      0                 0  0.0000\n",
       "                     Uncommitted                 0                 0  0.0000\n",
       "                     Warren                      0                 3  0.0000\n",
       "                     Yang                        0                 0  0.0000\n",
       "\n",
       "[15456 rows x 3 columns]"
      ]
     },
     "execution_count": 6,
     "metadata": {},
     "output_type": "execute_result"
    }
   ],
   "source": [
    "df = (\n",
    "    pd.DataFrame(rows, columns=columns)\n",
    "      .set_index(['County', 'Precinct'])\n",
    "      .stack(level='candidate')\n",
    "      .sort_index()\n",
    "      .apply(pd.to_numeric)\n",
    ")\n",
    "df"
   ]
  },
  {
   "cell_type": "markdown",
   "metadata": {},
   "source": [
    "## Analysis"
   ]
  },
  {
   "cell_type": "markdown",
   "metadata": {},
   "source": [
    "Statewide SDE (state delegate equivalent)"
   ]
  },
  {
   "cell_type": "code",
   "execution_count": 7,
   "metadata": {},
   "outputs": [
    {
     "data": {
      "text/plain": [
       "candidate\n",
       "Buttigieg      362.64\n",
       "Sanders        337.89\n",
       "Warren         246.18\n",
       "Biden          210.34\n",
       "Klobuchar      169.69\n",
       "Yang            14.27\n",
       "Steyer           3.76\n",
       "Uncommitted      2.08\n",
       "Other            0.28\n",
       "Bloomberg        0.13\n",
       "Patrick          0.00\n",
       "Gabbard          0.00\n",
       "Delaney          0.00\n",
       "Bennet           0.00\n",
       "Name: SDE, dtype: float64"
      ]
     },
     "execution_count": 7,
     "metadata": {},
     "output_type": "execute_result"
    }
   ],
   "source": [
    "df.groupby(level='candidate').SDE.sum().sort_values(ascending=False).round(2)"
   ]
  },
  {
   "cell_type": "markdown",
   "metadata": {},
   "source": [
    "## Calculating percents\n",
    "\n",
    "Candidates needed at least 15% to be viable in the first round. We have raw counts."
   ]
  },
  {
   "cell_type": "code",
   "execution_count": 8,
   "metadata": {},
   "outputs": [
    {
     "data": {
      "text/plain": [
       "County  Precinct        \n",
       "Adair   1NW ADAIR           40\n",
       "        5GF GREENFIELD      78\n",
       "Adams   Adams 1             29\n",
       "        Adams 4             18\n",
       "        Adams 5             15\n",
       "                            ..\n",
       "Wright  Eagle Grove #1       3\n",
       "        Eagle Grove #2      11\n",
       "        Eagle Grove #3      29\n",
       "        Eagle Grove/Troy    10\n",
       "        Rural Clarion       33\n",
       "Name: First Expression, Length: 1104, dtype: int64"
      ]
     },
     "execution_count": 8,
     "metadata": {},
     "output_type": "execute_result"
    }
   ],
   "source": [
    "precinct_totals = df.groupby(level=[0, 1])['First Expression'].sum()\n",
    "precinct_totals"
   ]
  },
  {
   "cell_type": "code",
   "execution_count": 9,
   "metadata": {},
   "outputs": [
    {
     "data": {
      "text/plain": [
       "County  Precinct       candidate  \n",
       "Adair   1NW ADAIR      Bennet         0.000000\n",
       "                       Biden          0.150000\n",
       "                       Bloomberg      0.000000\n",
       "                       Buttigieg      0.200000\n",
       "                       Delaney        0.000000\n",
       "                                        ...   \n",
       "Wright  Rural Clarion  Sanders        0.030303\n",
       "                       Steyer         0.000000\n",
       "                       Uncommitted    0.000000\n",
       "                       Warren         0.090909\n",
       "                       Yang           0.000000\n",
       "Name: First Expression, Length: 15456, dtype: float64"
      ]
     },
     "execution_count": 9,
     "metadata": {},
     "output_type": "execute_result"
    }
   ],
   "source": [
    "first_percent = df['First Expression'].div(precinct_totals)\n",
    "first_percent"
   ]
  },
  {
   "cell_type": "markdown",
   "metadata": {},
   "source": [
    "This shows the percent of precincts the candidate was viable in."
   ]
  },
  {
   "cell_type": "code",
   "execution_count": 10,
   "metadata": {},
   "outputs": [
    {
     "data": {
      "text/plain": [
       "candidate\n",
       "Bennet         0.000000\n",
       "Delaney        0.000000\n",
       "Gabbard        0.000000\n",
       "Other          0.000000\n",
       "Bloomberg      0.000906\n",
       "Patrick        0.000906\n",
       "Uncommitted    0.003623\n",
       "Steyer         0.024457\n",
       "Yang           0.051630\n",
       "Klobuchar      0.445652\n",
       "Warren         0.573370\n",
       "Biden          0.627717\n",
       "Sanders        0.715580\n",
       "Buttigieg      0.846014\n",
       "Name: First Expression, dtype: float64"
      ]
     },
     "execution_count": 10,
     "metadata": {},
     "output_type": "execute_result"
    }
   ],
   "source": [
    "(first_percent >= 0.15).groupby(level='candidate').mean().sort_values()"
   ]
  },
  {
   "cell_type": "markdown",
   "metadata": {},
   "source": [
    "After unviable candidates are removed, their supports get a chance to realign behind a second preference.\n",
    "We can see who gained the most supporters in the second round."
   ]
  },
  {
   "cell_type": "code",
   "execution_count": 11,
   "metadata": {},
   "outputs": [
    {
     "data": {
      "text/plain": [
       "candidate\n",
       "Buttigieg      3.047101\n",
       "Warren         1.273551\n",
       "Sanders        1.025362\n",
       "Uncommitted    0.298007\n",
       "Other          0.032609\n",
       "Delaney        0.000000\n",
       "Patrick       -0.041667\n",
       "Bennet        -0.086051\n",
       "Bloomberg     -0.096014\n",
       "Gabbard       -0.198370\n",
       "Klobuchar     -0.611413\n",
       "Steyer        -1.500906\n",
       "Biden         -1.814312\n",
       "Yang          -4.199275\n",
       "dtype: float64"
      ]
     },
     "execution_count": 11,
     "metadata": {},
     "output_type": "execute_result"
    }
   ],
   "source": [
    "(df['Final Expression'] - df['First Expression']).groupby(level='candidate').mean().sort_values(ascending=False)"
   ]
  }
 ],
 "metadata": {
  "kernelspec": {
   "display_name": "Python 3",
   "language": "python",
   "name": "python3"
  },
  "language_info": {
   "codemirror_mode": {
    "name": "ipython",
    "version": 3
   },
   "file_extension": ".py",
   "mimetype": "text/x-python",
   "name": "python",
   "nbconvert_exporter": "python",
   "pygments_lexer": "ipython3",
   "version": "3.7.6"
  }
 },
 "nbformat": 4,
 "nbformat_minor": 2
}
